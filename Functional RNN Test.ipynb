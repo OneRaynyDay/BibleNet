{
 "cells": [
  {
   "cell_type": "markdown",
   "metadata": {
    "collapsed": true
   },
   "source": [
    "# Testing RNN #"
   ]
  },
  {
   "cell_type": "code",
   "execution_count": 1,
   "metadata": {
    "collapsed": false
   },
   "outputs": [],
   "source": [
    "from tools.numerical_gradient import *\n",
    "from models.layers import *\n",
    "from models.networks.vanilla_rnn import *\n",
    "from models.solver.solver import *\n",
    "import matplotlib.pyplot as plt\n",
    "import matplotlib.image as mpimg\n",
    "import numpy as np\n",
    "import h5py\n",
    "import nltk\n",
    "import re\n",
    "import pickle\n",
    "\n",
    "%matplotlib inline\n",
    "plt.rcParams['figure.figsize'] = (10.0, 8.0) # set default size of plots\n",
    "plt.rcParams['image.interpolation'] = 'nearest'\n",
    "plt.rcParams['image.cmap'] = 'gray'"
   ]
  },
  {
   "cell_type": "code",
   "execution_count": 2,
   "metadata": {
    "collapsed": false
   },
   "outputs": [],
   "source": [
    "#############\n",
    "# Constants #\n",
    "#############\n",
    "\n",
    "word_sequence_dest = \"word_sequence.hdf5\"\n",
    "word_mapping_dest = \"word_map.pkl\"\n",
    "idx_mapping_dest = \"idx_map.pkl\"\n",
    "word_dataset_dest = \"word_dataset.hdf5\"\n",
    "cache_model_dest = \"cache_model.pkl\"\n",
    "seq_len = 5\n",
    "\n",
    "delims = ' |\\t|\\r\\n'"
   ]
  },
  {
   "cell_type": "code",
   "execution_count": 3,
   "metadata": {
    "collapsed": false
   },
   "outputs": [],
   "source": [
    "# Read in the data of X_all\n",
    "with h5py.File(word_dataset_dest, 'r') as f:\n",
    "    bible = f[\"bible\"][:]\n",
    "with open(idx_mapping_dest, 'r') as f:\n",
    "    idx_mapping = pickle.load(f)\n",
    "max_idx = np.max(bible)"
   ]
  },
  {
   "cell_type": "code",
   "execution_count": 4,
   "metadata": {
    "collapsed": false
   },
   "outputs": [],
   "source": [
    "bible = np.array([[1,0,1,0,1],[0,1,0,1,0],[1,0,1,0,1],[0,1,0,1,0],[1,0,1,0,1],[0,1,0,1,0],[1,0,1,0,1],[0,1,0,1,0],\n",
    "                  [1,0,1,0,1],[0,1,0,1,0],[1,0,1,0,1],[0,1,0,1,0],[1,0,1,0,1],[0,1,0,1,0],[1,0,1,0,1],[0,1,0,1,0],\n",
    "                  [1,0,1,0,1],[0,1,0,1,0],[1,0,1,0,1],[0,1,0,1,0],[1,0,1,0,1],[0,1,0,1,0],[1,0,1,0,1],[0,1,0,1,0],\n",
    "                  [1,0,1,0,1],[0,1,0,1,0],[1,0,1,0,1],[0,1,0,1,0],[1,0,1,0,1],[0,1,0,1,0],[1,0,1,0,1],[0,1,0,1,0],\n",
    "                  [1,0,1,0,1],[0,1,0,1,0],[1,0,1,0,1],[0,1,0,1,0],[1,0,1,0,1],[0,1,0,1,0],[1,0,1,0,1],[0,1,0,1,0],\n",
    "                  [1,0,1,0,1],[0,1,0,1,0],[1,0,1,0,1],[0,1,0,1,0],[1,0,1,0,1],[0,1,0,1,0],[1,0,1,0,1],[0,1,0,1,0],\n",
    "                  [1,0,1,0,1],[0,1,0,1,0],[1,0,1,0,1],[0,1,0,1,0],[1,0,1,0,1],[0,1,0,1,0],[1,0,1,0,1],[0,1,0,1,0],\n",
    "                  [1,0,1,0,1],[0,1,0,1,0],[1,0,1,0,1],[0,1,0,1,0],[1,0,1,0,1],[0,1,0,1,0],[1,0,1,0,1],[0,1,0,1,0],\n",
    "                  [1,0,1,0,1],[0,1,0,1,0],[1,0,1,0,1],[0,1,0,1,0],[1,0,1,0,1],[0,1,0,1,0],[1,0,1,0,1],[0,1,0,1,0],\n",
    "                  [1,0,1,0,1],[0,1,0,1,0],[1,0,1,0,1],[0,1,0,1,0],[1,0,1,0,1],[0,1,0,1,0],[1,0,1,0,1],[0,1,0,1,0],\n",
    "                  [1,0,1,0,1],[0,1,0,1,0],[1,0,1,0,1],[0,1,0,1,0],[1,0,1,0,1],[0,1,0,1,0],[1,0,1,0,1],[0,1,0,1,0],\n",
    "                  [1,0,1,0,1],[0,1,0,1,0],[1,0,1,0,1],[0,1,0,1,0],[1,0,1,0,1],[0,1,0,1,0],[1,0,1,0,1],[0,1,0,1,0],\n",
    "                  [1,0,1,0,1],[0,1,0,1,0],[1,0,1,0,1],[0,1,0,1,0],[1,0,1,0,1],[0,1,0,1,0],[1,0,1,0,1],[0,1,0,1,0],\n",
    "                  [1,0,1,0,1],[0,1,0,1,0],[1,0,1,0,1],[0,1,0,1,0],[1,0,1,0,1],[0,1,0,1,0],[1,0,1,0,1],[0,1,0,1,0],\n",
    "                  [1,0,1,0,1],[0,1,0,1,0],[1,0,1,0,1],[0,1,0,1,0],[1,0,1,0,1],[0,1,0,1,0],[1,0,1,0,1],[0,1,0,1,0],\n",
    "                  [1,0,1,0,1],[0,1,0,1,0],[1,0,1,0,1],[0,1,0,1,0],[1,0,1,0,1],[0,1,0,1,0],[1,0,1,0,1],[0,1,0,1,0],\n",
    "                  [1,0,1,0,1],[0,1,0,1,0],[1,0,1,0,1],[0,1,0,1,0],[1,0,1,0,1],[0,1,0,1,0],[1,0,1,0,1],[0,1,0,1,0],\n",
    "                  [1,0,1,0,1],[0,1,0,1,0],[1,0,1,0,1],[0,1,0,1,0],[1,0,1,0,1],[0,1,0,1,0],[1,0,1,0,1],[0,1,0,1,0],\n",
    "                  [1,0,1,0,1],[0,1,0,1,0],[1,0,1,0,1],[0,1,0,1,0],[1,0,1,0,1],[0,1,0,1,0],[1,0,1,0,1],[0,1,0,1,0],\n",
    "                  [1,0,1,0,1],[0,1,0,1,0],[1,0,1,0,1],[0,1,0,1,0],[1,0,1,0,1],[0,1,0,1,0],[1,0,1,0,1],[0,1,0,1,0]])\n",
    "N,T = bible.shape\n",
    "num_samples = 8\n",
    "num_words = 2 #max_idx+1\n",
    "time_dim = 2\n",
    "hidden_dim = 100\n",
    "word_vec_dim = 100\n",
    "\n",
    "rnn = VanillaRNN(num_samples, num_words, time_dim, hidden_dim, word_vec_dim)"
   ]
  },
  {
   "cell_type": "code",
   "execution_count": 5,
   "metadata": {
    "collapsed": false
   },
   "outputs": [
    {
     "name": "stdout",
     "output_type": "stream",
     "text": [
      "(160, 5) 160 5\n"
     ]
    }
   ],
   "source": [
    "print bible.shape, N, T"
   ]
  },
  {
   "cell_type": "code",
   "execution_count": 6,
   "metadata": {
    "collapsed": false
   },
   "outputs": [],
   "source": [
    "solver = Solver({\"learning_rate\" : 1e-4, \"type\" : \"momentum\",\n",
    "                 \"mu\" : 0.90})\n",
    "                 #\"beta1\" : 0.9, \"beta2\" : 0.99}) # adagrad/adam can sustain higher learning rates"
   ]
  },
  {
   "cell_type": "code",
   "execution_count": 9,
   "metadata": {
    "collapsed": false,
    "scrolled": false
   },
   "outputs": [
    {
     "data": {
      "image/png": "[encoded data removed]",
      "text/plain": [
       "<matplotlib.figure.Figure at 0x113d39d10>"
      ]
     },
     "metadata": {},
     "output_type": "display_data"
    }
   ],
   "source": [
    "c"
   ]
  },
  {
   "cell_type": "code",
   "execution_count": 12,
   "metadata": {
    "collapsed": false
   },
   "outputs": [
    {
     "name": "stdout",
     "output_type": "stream",
     "text": [
      "[-0.01624876  0.01624876]\n"
     ]
    }
   ],
   "source": []
  },
  {
   "cell_type": "markdown",
   "metadata": {
    "collapsed": true
   },
   "source": [
    "# Let's use the best model we have and see what happens! #"
   ]
  },
  {
   "cell_type": "code",
   "execution_count": 8,
   "metadata": {
    "collapsed": false
   },
   "outputs": [
    {
     "name": "stdout",
     "output_type": "stream",
     "text": [
      "0.660657215412\n"
     ]
    },
    {
     "ename": "IndexError",
     "evalue": "list index out of range",
     "output_type": "error",
     "traceback": [
      "\u001b[0;31m---------------------------------------------------------------------------\u001b[0m",
      "\u001b[0;31mIndexError\u001b[0m                                Traceback (most recent call last)",
      "\u001b[0;32m<ipython-input-8-968dbd41f938>\u001b[0m in \u001b[0;36m<module>\u001b[0;34m()\u001b[0m\n\u001b[1;32m     14\u001b[0m     \u001b[0mf\u001b[0m\u001b[0;34m.\u001b[0m\u001b[0mcreate_dataset\u001b[0m\u001b[0;34m(\u001b[0m\u001b[0;34m\"W_hy\"\u001b[0m\u001b[0;34m,\u001b[0m \u001b[0mdata\u001b[0m\u001b[0;34m=\u001b[0m\u001b[0ml\u001b[0m\u001b[0;34m[\u001b[0m\u001b[0;36m3\u001b[0m\u001b[0;34m]\u001b[0m\u001b[0;34m[\u001b[0m\u001b[0;36m0\u001b[0m\u001b[0;34m]\u001b[0m\u001b[0;34m)\u001b[0m\u001b[0;34m\u001b[0m\u001b[0m\n\u001b[1;32m     15\u001b[0m     \u001b[0mf\u001b[0m\u001b[0;34m.\u001b[0m\u001b[0mcreate_dataset\u001b[0m\u001b[0;34m(\u001b[0m\u001b[0;34m\"b_affine\"\u001b[0m\u001b[0;34m,\u001b[0m \u001b[0mdata\u001b[0m\u001b[0;34m=\u001b[0m\u001b[0ml\u001b[0m\u001b[0;34m[\u001b[0m\u001b[0;36m4\u001b[0m\u001b[0;34m]\u001b[0m\u001b[0;34m[\u001b[0m\u001b[0;36m0\u001b[0m\u001b[0;34m]\u001b[0m\u001b[0;34m)\u001b[0m\u001b[0;34m\u001b[0m\u001b[0m\n\u001b[0;32m---> 16\u001b[0;31m     \u001b[0mf\u001b[0m\u001b[0;34m.\u001b[0m\u001b[0mcreate_dataset\u001b[0m\u001b[0;34m(\u001b[0m\u001b[0;34m\"b_rnn\"\u001b[0m\u001b[0;34m,\u001b[0m \u001b[0mdata\u001b[0m\u001b[0;34m=\u001b[0m\u001b[0ml\u001b[0m\u001b[0;34m[\u001b[0m\u001b[0;36m5\u001b[0m\u001b[0;34m]\u001b[0m\u001b[0;34m[\u001b[0m\u001b[0;36m0\u001b[0m\u001b[0;34m]\u001b[0m\u001b[0;34m)\u001b[0m\u001b[0;34m\u001b[0m\u001b[0m\n\u001b[0m",
      "\u001b[0;31mIndexError\u001b[0m: list index out of range"
     ]
    }
   ],
   "source": [
    "# TODO: Save the best model\n",
    "print solver.min_loss\n",
    "l = solver.min_loss_model\n",
    "# [p(\"words\"), dwords], \n",
    "# [p(\"W_xh\"), dW_xh], \n",
    "# [p(\"W_hh\"), dW_hh],\n",
    "# [p(\"W_hy\"), dW_hy],\n",
    "# [p(\"b_affine\"), db_affine],\n",
    "# [p(\"b_rnn\"), db_rnn]\n",
    "with h5py.File(cache_model_dest, 'w') as f:\n",
    "    f.create_dataset('words', data=l[0][0])\n",
    "    f.create_dataset(\"W_xh\", data=l[1][0])\n",
    "    f.create_dataset(\"W_hh\", data=l[2][0])\n",
    "    f.create_dataset(\"W_hy\", data=l[3][0])\n",
    "    f.create_dataset(\"b_affine\", data=l[4][0])\n",
    "    f.create_dataset(\"b_rnn\", data=l[5][0])"
   ]
  },
  {
   "cell_type": "code",
   "execution_count": 11,
   "metadata": {
    "collapsed": false
   },
   "outputs": [
    {
     "name": "stdout",
     "output_type": "stream",
     "text": [
      "[[[ 0.92406599  0.07593401]]]\n",
      "0\n"
     ]
    },
    {
     "ename": "TypeError",
     "evalue": "'int' object is not iterable",
     "output_type": "error",
     "traceback": [
      "\u001b[0;31m---------------------------------------------------------------------------\u001b[0m",
      "\u001b[0;31mTypeError\u001b[0m                                 Traceback (most recent call last)",
      "\u001b[0;32m<ipython-input-11-2a9f3cf8a799>\u001b[0m in \u001b[0;36m<module>\u001b[0;34m()\u001b[0m\n\u001b[1;32m      1\u001b[0m \u001b[0mseq\u001b[0m \u001b[0;34m=\u001b[0m \u001b[0mrnn\u001b[0m\u001b[0;34m.\u001b[0m\u001b[0mpredict\u001b[0m\u001b[0;34m(\u001b[0m\u001b[0;36m1\u001b[0m\u001b[0;34m,\u001b[0m \u001b[0mseq_len\u001b[0m\u001b[0;34m=\u001b[0m\u001b[0;36m10\u001b[0m\u001b[0;34m)\u001b[0m \u001b[0;31m# We fed in \"God\" as the first token.\u001b[0m\u001b[0;34m\u001b[0m\u001b[0m\n\u001b[1;32m      2\u001b[0m \u001b[0;32mprint\u001b[0m \u001b[0mseq\u001b[0m\u001b[0;34m\u001b[0m\u001b[0m\n\u001b[0;32m----> 3\u001b[0;31m \u001b[0mwords\u001b[0m \u001b[0;34m=\u001b[0m \u001b[0;34m[\u001b[0m\u001b[0midx_mapping\u001b[0m\u001b[0;34m[\u001b[0m\u001b[0mi\u001b[0m\u001b[0;34m]\u001b[0m \u001b[0;32mfor\u001b[0m \u001b[0mi\u001b[0m \u001b[0;32min\u001b[0m \u001b[0mseq\u001b[0m\u001b[0;34m]\u001b[0m\u001b[0;34m\u001b[0m\u001b[0m\n\u001b[0m",
      "\u001b[0;31mTypeError\u001b[0m: 'int' object is not iterable"
     ]
    }
   ],
   "source": [
    "seq = rnn.predict(1, seq_len=10) # We fed in \"God\" as the first token.\n",
    "print seq\n",
    "words = [idx_mapping[i] for i in seq]"
   ]
  },
  {
   "cell_type": "code",
   "execution_count": 19,
   "metadata": {
    "collapsed": false
   },
   "outputs": [
    {
     "ename": "NameError",
     "evalue": "name 'words' is not defined",
     "output_type": "error",
     "traceback": [
      "\u001b[0;31m---------------------------------------------------------------------------\u001b[0m",
      "\u001b[0;31mNameError\u001b[0m                                 Traceback (most recent call last)",
      "\u001b[0;32m<ipython-input-19-f73813faa4a8>\u001b[0m in \u001b[0;36m<module>\u001b[0;34m()\u001b[0m\n\u001b[0;32m----> 1\u001b[0;31m \u001b[0;32mprint\u001b[0m \u001b[0mwords\u001b[0m\u001b[0;34m\u001b[0m\u001b[0m\n\u001b[0m",
      "\u001b[0;31mNameError\u001b[0m: name 'words' is not defined"
     ]
    }
   ],
   "source": [
    "print words"
   ]
  },
  {
   "cell_type": "code",
   "execution_count": 15,
   "metadata": {
    "collapsed": false
   },
   "outputs": [
    {
     "name": "stdout",
     "output_type": "stream",
     "text": [
      "[[11032  2070 22371 29900 15827 15939]\n",
      " [ 2070 22371 29900 15827 15939 11032]\n",
      " [22371 29900 15827 15939 11032 11575]\n",
      " [29900 15827 15939 11032 11575 15939]\n",
      " [15827 15939 11032 11575 15939 11032]\n",
      " [15939 11032 11575 15939 11032 17191]\n",
      " [11032 11575 15939 11032 17191 25010]\n",
      " [11575 15939 11032 17191 25010 13170]\n",
      " [15939 11032 17191 25010 13170 13174]\n",
      " [11032 17191 25010 13170 13174 11032]\n",
      " [17191 25010 13170 13174 11032 25318]\n",
      " [25010 13170 13174 11032 25318 15939]\n",
      " [13170 13174 11032 25318 15939 11032]\n",
      " [13174 11032 25318 15939 11032  2060]\n",
      " [11032 25318 15939 11032  2060 20233]\n",
      " [25318 15939 11032  2060 20233 14936]\n",
      " [15939 11032  2060 20233 14936  8877]\n",
      " [11032  2060 20233 14936  8877  5874]\n",
      " [ 2060 20233 14936  8877  5874 25474]\n",
      " [20233 14936  8877  5874 25474  2739]\n",
      " [14936  8877  5874 25474  2739 21019]\n",
      " [ 8877  5874 25474  2739 21019 15939]\n",
      " [ 5874 25474  2739 21019 15939 26384]\n",
      " [25474  2739 21019 15939 26384 12595]\n",
      " [ 2739 21019 15939 26384 12595 25474]\n",
      " [21019 15939 26384 12595 25474 20155]\n",
      " [15939 26384 12595 25474 20155 11600]\n",
      " [26384 12595 25474 20155 11600 26384]\n",
      " [12595 25474 20155 11600 26384 27138]\n",
      " [25474 20155 11600 26384 27138 20155]\n",
      " [20155 11600 26384 27138 20155 13309]\n",
      " [11600 26384 27138 20155 13309 22371]]\n",
      "[[ 2070 22371 29900 15827 15939 11032]\n",
      " [22371 29900 15827 15939 11032 11575]\n",
      " [29900 15827 15939 11032 11575 15939]\n",
      " [15827 15939 11032 11575 15939 11032]\n",
      " [15939 11032 11575 15939 11032 17191]\n",
      " [11032 11575 15939 11032 17191 25010]\n",
      " [11575 15939 11032 17191 25010 13170]\n",
      " [15939 11032 17191 25010 13170 13174]\n",
      " [11032 17191 25010 13170 13174 11032]\n",
      " [17191 25010 13170 13174 11032 25318]\n",
      " [25010 13170 13174 11032 25318 15939]\n",
      " [13170 13174 11032 25318 15939 11032]\n",
      " [13174 11032 25318 15939 11032  2060]\n",
      " [11032 25318 15939 11032  2060 20233]\n",
      " [25318 15939 11032  2060 20233 14936]\n",
      " [15939 11032  2060 20233 14936  8877]\n",
      " [11032  2060 20233 14936  8877  5874]\n",
      " [ 2060 20233 14936  8877  5874 25474]\n",
      " [20233 14936  8877  5874 25474  2739]\n",
      " [14936  8877  5874 25474  2739 21019]\n",
      " [ 8877  5874 25474  2739 21019 15939]\n",
      " [ 5874 25474  2739 21019 15939 26384]\n",
      " [25474  2739 21019 15939 26384 12595]\n",
      " [ 2739 21019 15939 26384 12595 25474]\n",
      " [21019 15939 26384 12595 25474 20155]\n",
      " [15939 26384 12595 25474 20155 11600]\n",
      " [26384 12595 25474 20155 11600 26384]\n",
      " [12595 25474 20155 11600 26384 27138]\n",
      " [25474 20155 11600 26384 27138 20155]\n",
      " [20155 11600 26384 27138 20155 13309]\n",
      " [11600 26384 27138 20155 13309 22371]\n",
      " [26384 27138 20155 13309 22371 29904]]\n"
     ]
    }
   ],
   "source": [
    "print bible[curPtr:curPtr+num_samples, :]\n",
    "print bible[curPtr+1:curPtr+num_samples+1, :]"
   ]
  },
  {
   "cell_type": "code",
   "execution_count": null,
   "metadata": {
    "collapsed": true
   },
   "outputs": [],
   "source": []
  }
 ],
 "metadata": {
  "kernelspec": {
   "display_name": "Python 2",
   "language": "python",
   "name": "python2"
  },
  "language_info": {
   "codemirror_mode": {
    "name": "ipython",
    "version": 2
   },
   "file_extension": ".py",
   "mimetype": "text/x-python",
   "name": "python",
   "nbconvert_exporter": "python",
   "pygments_lexer": "ipython2",
   "version": "2.7.12"
  }
 },
 "nbformat": 4,
 "nbformat_minor": 0
}
