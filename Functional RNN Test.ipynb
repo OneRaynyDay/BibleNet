{
 "cells": [
  {
   "cell_type": "markdown",
   "metadata": {
    "collapsed": true
   },
   "source": [
    "# Testing 1 iteration of forward propagation for the RNN #"
   ]
  },
  {
   "cell_type": "code",
   "execution_count": 42,
   "metadata": {
    "collapsed": false
   },
   "outputs": [],
   "source": [
    "from tools.numerical_gradient import *\n",
    "from models.layers import *\n",
    "from models.networks.vanilla_rnn import *\n",
    "import matplotlib.pyplot as plt\n",
    "import matplotlib.image as mpimg\n",
    "import numpy as np\n",
    "import h5py\n",
    "import nltk\n",
    "import re\n",
    "import pickle\n",
    "\n",
    "%matplotlib inline\n",
    "plt.rcParams['figure.figsize'] = (10.0, 8.0) # set default size of plots\n",
    "plt.rcParams['image.interpolation'] = 'nearest'\n",
    "plt.rcParams['image.cmap'] = 'gray'"
   ]
  },
  {
   "cell_type": "code",
   "execution_count": 45,
   "metadata": {
    "collapsed": false
   },
   "outputs": [
    {
     "name": "stdout",
     "output_type": "stream",
     "text": [
      "[[ 0.00215356  0.01124903]\n",
      " [-0.00514625  0.0018743 ]\n",
      " [ 0.00737881  0.01829283]]\n",
      "[[-0.00713456  0.00561642 -0.00091854 -0.01564774]\n",
      " [-0.00699547 -0.00599112 -0.00899114 -0.00210527]]\n",
      "[[-0.00423001 -0.0027412   0.00832771 -0.00587555]\n",
      " [-0.007261   -0.00450558 -0.00505297  0.00739243]\n",
      " [ 0.00769589 -0.00149951  0.01020717 -0.01837719]\n",
      " [-0.00639119  0.01130877 -0.01212647  0.00593296]]\n",
      "[[ 0.00173359  0.00371596  0.00495137]\n",
      " [-0.00103705 -0.00866454 -0.00699268]\n",
      " [ 0.00811155 -0.00458012  0.00792466]\n",
      " [-0.00532926 -0.01062421 -0.00173651]]\n",
      "[-0.0041544   0.01673498 -0.00828438  0.00299739]\n",
      "[ 0.0054275  -0.00429044 -0.00340353]\n"
     ]
    }
   ],
   "source": [
    "# Create the network with the required parameters: num_words, words_idx, hidden_dim, word_vec_dim\n",
    "\n",
    "# Set num_words = 3\n",
    "num_words = 3\n",
    "# Set number of samples = 5\n",
    "num_samples = 5\n",
    "# Time dimensions\n",
    "time_dim = 4\n",
    "# We need to create a hidden_dim representation. Let's give it the dimension 4\n",
    "hidden_dim = 4\n",
    "# We need to give the word vector dimensions. Usually it's advised for it to be less than num_words.\n",
    "word_vec_dim = 2\n",
    "\n",
    "rnn = VanillaRNN(num_samples, num_words, time_dim, hidden_dim, word_vec_dim)"
   ]
  },
  {
   "cell_type": "code",
   "execution_count": 46,
   "metadata": {
    "collapsed": false
   },
   "outputs": [
    {
     "name": "stdout",
     "output_type": "stream",
     "text": [
      "3.96302396156\n",
      "[[ 0.48047656 -0.18732411  0.19619361  0.83400241]\n",
      " [-0.3613487  -0.60415026 -0.67178409  0.23051183]]\n",
      "4.26842575995\n"
     ]
    },
    {
     "data": {
      "image/png": "[encoded data removed]",
      "text/plain": [
       "<matplotlib.figure.Figure at 0x113639110>"
      ]
     },
     "metadata": {},
     "output_type": "display_data"
    }
   ],
   "source": [
    "# Run the loss function on the neural network with the parameters: y, h0\n",
    "y = np.array([[0, 1, 2, 0],[1, 2, 0, 1], [2, 0, 1, 2], [0, 1, 2, 1], [1, 2, 1, 1]], int) # 5 x 4 y input\n",
    "h0 = np.random.random((5,4))\n",
    "\n",
    "loss, l = rnn.loss(y, h0)\n",
    "print loss\n",
    "\n",
    "print rnn.params[\"W_xh\"]\n",
    "history = []\n",
    "for i in xrange(10000):\n",
    "    for pair in l:\n",
    "        pair[0] -= pair[1]*1e-3\n",
    "    loss, l = rnn.loss(y, h0)\n",
    "    history.append((i,loss))\n",
    "\n",
    "print loss\n",
    "plt.scatter(*zip(*history))\n",
    "plt.show()"
   ]
  },
  {
   "cell_type": "code",
   "execution_count": null,
   "metadata": {
    "collapsed": true
   },
   "outputs": [],
   "source": []
  },
  {
   "cell_type": "code",
   "execution_count": null,
   "metadata": {
    "collapsed": true
   },
   "outputs": [],
   "source": []
  }
 ],
 "metadata": {
  "kernelspec": {
   "display_name": "Python 2",
   "language": "python",
   "name": "python2"
  },
  "language_info": {
   "codemirror_mode": {
    "name": "ipython",
    "version": 2
   },
   "file_extension": ".py",
   "mimetype": "text/x-python",
   "name": "python",
   "nbconvert_exporter": "python",
   "pygments_lexer": "ipython2",
   "version": "2.7.12"
  }
 },
 "nbformat": 4,
 "nbformat_minor": 0
}
