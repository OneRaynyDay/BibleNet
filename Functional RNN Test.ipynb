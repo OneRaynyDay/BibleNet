{
 "cells": [
  {
   "cell_type": "markdown",
   "metadata": {
    "collapsed": true
   },
   "source": [
    "# Testing 1 iteration of forward propagation for the RNN #"
   ]
  },
  {
   "cell_type": "code",
   "execution_count": 7,
   "metadata": {
    "collapsed": false
   },
   "outputs": [],
   "source": [
    "from tools.numerical_gradient import *\n",
    "from models.layers import *\n",
    "from models.networks.vanilla_rnn import *\n",
    "import matplotlib.pyplot as plt\n",
    "import matplotlib.image as mpimg\n",
    "import numpy as np\n",
    "import h5py\n",
    "import nltk\n",
    "import re\n",
    "import pickle\n",
    "\n",
    "%matplotlib inline\n",
    "plt.rcParams['figure.figsize'] = (10.0, 8.0) # set default size of plots\n",
    "plt.rcParams['image.interpolation'] = 'nearest'\n",
    "plt.rcParams['image.cmap'] = 'gray'"
   ]
  },
  {
   "cell_type": "code",
   "execution_count": 8,
   "metadata": {
    "collapsed": false
   },
   "outputs": [
    {
     "name": "stdout",
     "output_type": "stream",
     "text": [
      "[[ 0.00556639  0.00204468  0.00833008]\n",
      " [ 0.01573514 -0.01019227 -0.01750132]\n",
      " [ 0.00301422  0.00024793 -0.01112082]\n",
      " [ 0.01567724 -0.01102036  0.01946243]\n",
      " [-0.01852873  0.00015394  0.01163354]\n",
      " [ 0.00357354  0.00363955  0.01321795]\n",
      " [ 0.00509106 -0.00800933  0.00361839]\n",
      " [ 0.01266343  0.022479    0.00884315]\n",
      " [ 0.00065516  0.01200648  0.00652469]\n",
      " [ 0.00674696  0.00037845  0.00121702]]\n",
      "[[ 0.00700813 -0.00174624  0.00367805 -0.00422223]\n",
      " [ 0.0026096   0.00991775 -0.01038357 -0.00211779]\n",
      " [ 0.00671809  0.00288062  0.0077307  -0.01063039]]\n",
      "[[-0.00159454  0.00902948 -0.00144709  0.00787005]\n",
      " [ 0.00907777  0.01388899  0.00016107 -0.02763967]\n",
      " [-0.00273914 -0.01733548  0.0033538  -0.00813767]\n",
      " [-0.0115406  -0.0185295  -0.00567558  0.00455567]]\n",
      "[[ 0.00198833 -0.01108919 -0.0018212  -0.00233299  0.00164501  0.01500362\n",
      "   0.00709156  0.00307653  0.01633704 -0.00021404]\n",
      " [-0.0093226  -0.00194863  0.00076655  0.00790183  0.00218655  0.00388608\n",
      "  -0.01637849 -0.01978079 -0.00743965 -0.00090977]\n",
      " [-0.00599096 -0.00441957 -0.0092465   0.01226351  0.00306833  0.00890327\n",
      "   0.01107533  0.00924759  0.00071253 -0.00569365]\n",
      " [ 0.00348334  0.00798816  0.00511577  0.00072158 -0.0137856  -0.00581967\n",
      "   0.01452805 -0.00180875  0.02195494 -0.00728834]]\n",
      "[ 0.00177991  0.01346593  0.00121117 -0.0159782 ]\n",
      "[-0.00093804  0.00490455  0.00066415 -0.00186352  0.00429104 -0.01347532\n",
      " -0.00227006 -0.0069471  -0.00840271 -0.00514964]\n"
     ]
    }
   ],
   "source": [
    "# Create the network with the required parameters: num_words, words_idx, hidden_dim, word_vec_dim\n",
    "\n",
    "# Set num_words = 3\n",
    "num_words = 10\n",
    "# Set number of samples = 5\n",
    "num_samples = 1000\n",
    "# Time dimensions\n",
    "time_dim = 4\n",
    "# We need to create a hidden_dim representation. Let's give it the dimension 4\n",
    "hidden_dim = 4\n",
    "# We need to give the word vector dimensions. Usually it's advised for it to be less than num_words.\n",
    "word_vec_dim = 3\n",
    "\n",
    "rnn = VanillaRNN(num_samples, num_words, time_dim, hidden_dim, word_vec_dim)"
   ]
  },
  {
   "cell_type": "code",
   "execution_count": 9,
   "metadata": {
    "collapsed": false
   },
   "outputs": [
    {
     "name": "stdout",
     "output_type": "stream",
     "text": [
      "9.58166722505\n",
      "[[-0.47395109  0.07773177 -0.6476423   0.59151297]\n",
      " [ 0.33749634  0.70067684 -0.50489885 -0.37446675]\n",
      " [ 0.75904992 -0.46804819 -0.35255623  0.2836868 ]]\n",
      "9.21922380309\n"
     ]
    },
    {
     "data": {
      "image/png": "[encoded data removed]",
      "text/plain": [
       "<matplotlib.figure.Figure at 0x112c44890>"
      ]
     },
     "metadata": {},
     "output_type": "display_data"
    }
   ],
   "source": [
    "# Run the loss function on the neural network with the parameters: y, h0\n",
    "y = np.random.randint(num_words, size=(num_samples,time_dim)) # D = 4, N = 3\n",
    "h0 = np.random.random((num_samples,hidden_dim))\n",
    "\n",
    "loss, l = rnn.loss(y, h0)\n",
    "print loss\n",
    "\n",
    "print rnn.params[\"W_xh\"]\n",
    "history = []\n",
    "for i in xrange(1000):\n",
    "    for pair in l:\n",
    "        pair[0] -= pair[1]*1e-3\n",
    "    loss, l = rnn.loss(y, h0)\n",
    "    history.append((i,loss))\n",
    "\n",
    "print loss\n",
    "plt.scatter(*zip(*history))\n",
    "plt.show()"
   ]
  },
  {
   "cell_type": "code",
   "execution_count": null,
   "metadata": {
    "collapsed": true
   },
   "outputs": [],
   "source": []
  },
  {
   "cell_type": "code",
   "execution_count": null,
   "metadata": {
    "collapsed": true
   },
   "outputs": [],
   "source": []
  }
 ],
 "metadata": {
  "kernelspec": {
   "display_name": "Python 2",
   "language": "python",
   "name": "python2"
  },
  "language_info": {
   "codemirror_mode": {
    "name": "ipython",
    "version": 2
   },
   "file_extension": ".py",
   "mimetype": "text/x-python",
   "name": "python",
   "nbconvert_exporter": "python",
   "pygments_lexer": "ipython2",
   "version": "2.7.12"
  }
 },
 "nbformat": 4,
 "nbformat_minor": 0
}
