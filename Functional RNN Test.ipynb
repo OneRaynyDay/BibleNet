{
 "cells": [
  {
   "cell_type": "markdown",
   "metadata": {
    "collapsed": true
   },
   "source": [
    "# Testing 1 iteration of forward propagation for the RNN #"
   ]
  },
  {
   "cell_type": "code",
   "execution_count": 1,
   "metadata": {
    "collapsed": false
   },
   "outputs": [],
   "source": [
    "from tools.numerical_gradient import *\n",
    "from models.layers import *\n",
    "from models.networks.vanilla_rnn import *\n",
    "from models.solver.solver import *\n",
    "import matplotlib.pyplot as plt\n",
    "import matplotlib.image as mpimg\n",
    "import numpy as np\n",
    "import h5py\n",
    "import nltk\n",
    "import re\n",
    "import pickle\n",
    "\n",
    "%matplotlib inline\n",
    "plt.rcParams['figure.figsize'] = (10.0, 8.0) # set default size of plots\n",
    "plt.rcParams['image.interpolation'] = 'nearest'\n",
    "plt.rcParams['image.cmap'] = 'gray'"
   ]
  },
  {
   "cell_type": "code",
   "execution_count": 2,
   "metadata": {
    "collapsed": false
   },
   "outputs": [],
   "source": [
    "#############\n",
    "# Constants #\n",
    "#############\n",
    "\n",
    "word_sequence_dest = \"word_sequence.hdf5\"\n",
    "word_mapping_dest = \"word_map.pkl\"\n",
    "word_dataset_dest = \"word_dataset.hdf5\"\n",
    "seq_len = 6\n",
    "\n",
    "delims = ' |\\t|\\r\\n'"
   ]
  },
  {
   "cell_type": "code",
   "execution_count": 3,
   "metadata": {
    "collapsed": false
   },
   "outputs": [],
   "source": [
    "# Read in the data of X_all\n",
    "with h5py.File(word_dataset_dest, 'r') as f:\n",
    "    bible = f[\"bible\"][:]\n",
    "max_idx = np.max(bible)"
   ]
  },
  {
   "cell_type": "code",
   "execution_count": 4,
   "metadata": {
    "collapsed": false
   },
   "outputs": [
    {
     "name": "stdout",
     "output_type": "stream",
     "text": [
      "[[  1.28630356e-02   2.22336542e-03   4.07523036e-03 ...,  -1.75886055e-02\n",
      "   -1.04596969e-02  -4.26216476e-03]\n",
      " [  8.25717163e-03  -6.62108572e-05  -2.48059986e-04 ...,  -7.90081072e-03\n",
      "    1.95251268e-03   1.28700942e-02]\n",
      " [ -2.14773525e-04   1.06409845e-02  -7.68762862e-03 ...,  -1.44793304e-02\n",
      "   -7.47921337e-04  -4.63226453e-03]\n",
      " ..., \n",
      " [ -1.76008706e-02  -1.15328591e-02   6.32889447e-03 ...,   1.47988563e-03\n",
      "   -5.20839977e-03   1.71664540e-02]\n",
      " [ -7.96745946e-03   1.57453195e-02  -9.71106382e-03 ...,   3.27773355e-03\n",
      "   -8.43188710e-03   2.99288863e-03]\n",
      " [  3.33423225e-03  -5.83054227e-03   1.40645247e-02 ...,  -2.81767273e-03\n",
      "   -6.17008696e-03   1.07273554e-02]]\n",
      "[[ -5.66342054e-03  -5.74310695e-03   7.20879866e-03 ...,   4.13276018e-03\n",
      "   -1.06013974e-02  -7.49251526e-03]\n",
      " [ -6.57881849e-03   2.13259881e-03   9.15591900e-03 ...,  -3.17509737e-04\n",
      "   -9.13183198e-03  -6.62513504e-03]\n",
      " [ -1.66819053e-02   2.39184285e-05  -1.59728543e-02 ...,   6.20787273e-03\n",
      "    1.25828630e-03  -4.42026573e-03]\n",
      " ..., \n",
      " [ -1.29538868e-03   2.14991120e-02   4.65398404e-03 ...,  -9.30430042e-03\n",
      "   -1.19834911e-02   8.87519347e-03]\n",
      " [  1.23996919e-02   2.44789465e-02   1.16712404e-02 ...,  -1.38075249e-03\n",
      "    1.23236221e-02   7.86957022e-03]\n",
      " [ -6.77245199e-03  -9.42240422e-03   1.35679918e-02 ...,   1.49371855e-02\n",
      "    1.73217667e-02   1.42117871e-02]]\n",
      "[[ 0.00854921  0.01153792  0.01276526 ..., -0.00964794  0.00877556\n",
      "   0.00074584]\n",
      " [-0.00097983  0.01502538  0.00616587 ..., -0.01010688 -0.0082849\n",
      "   0.0106674 ]\n",
      " [ 0.00318407  0.0003812   0.0020475  ...,  0.00409232 -0.00431639\n",
      "   0.00851149]\n",
      " ..., \n",
      " [-0.00966149 -0.00276132  0.00942592 ..., -0.01810014 -0.00444447\n",
      "   0.00720602]\n",
      " [-0.00831247  0.00946795 -0.00451582 ...,  0.00082068  0.0124012\n",
      "  -0.00160273]\n",
      " [ 0.01620571 -0.00912426 -0.00294506 ...,  0.00223156  0.00804156\n",
      "  -0.00709222]]\n",
      "[[ -7.96819739e-04  -1.27583723e-02   1.74752212e-02 ...,   4.62547257e-03\n",
      "    1.04349868e-02  -9.98310513e-03]\n",
      " [  1.95477306e-02  -6.05536761e-03  -9.38510697e-04 ...,  -2.25235943e-03\n",
      "    3.40752856e-03  -5.42592882e-03]\n",
      " [ -5.04961348e-04  -9.88493312e-03   4.01135436e-03 ...,  -8.17393719e-03\n",
      "    1.40312004e-02  -4.53717978e-03]\n",
      " ..., \n",
      " [ -8.41374968e-04   2.18867117e-03  -5.34294601e-03 ...,  -6.37855786e-03\n",
      "    2.50405467e-02   7.52435169e-03]\n",
      " [ -1.05374677e-02  -7.56492495e-03  -5.02779841e-03 ...,   6.28837093e-03\n",
      "    1.49383740e-02   8.91596354e-03]\n",
      " [  5.97113036e-06   7.84712847e-03  -4.01478423e-04 ...,  -5.44717448e-03\n",
      "    5.81017471e-03   7.02057266e-03]]\n",
      "[ 0.01392465 -0.00850473 -0.00374859 -0.00626912 -0.01095     0.03114497\n",
      " -0.00437396  0.00802683  0.00331433  0.00739007 -0.0134721  -0.00319741\n",
      " -0.00419189  0.01107848  0.00147246 -0.01686949 -0.01288163  0.00727326\n",
      " -0.00454253 -0.01259658 -0.00099612  0.01476081  0.03111269 -0.00985126\n",
      "  0.01011251 -0.01445894  0.0035281   0.00295322 -0.01640952 -0.00729383\n",
      "  0.01889045  0.00236784 -0.00433089  0.008181    0.00192842 -0.00620709\n",
      "  0.00132855 -0.00073408  0.01210104  0.0103554   0.01102463 -0.00890575\n",
      " -0.0129905   0.01239462 -0.00466617 -0.01413195 -0.00469465 -0.00386983\n",
      "  0.01371846  0.00525706  0.00261114  0.01146562  0.01401287  0.01385403\n",
      "  0.00220951 -0.01998664 -0.00161919 -0.00587126 -0.00284577  0.0027098\n",
      " -0.00924924 -0.01015496  0.00363808  0.0021398  -0.01774655 -0.01082615\n",
      "  0.00023515 -0.0087812   0.00220597  0.00152058  0.00014791  0.01688705\n",
      "  0.01265694 -0.01588329  0.00213615 -0.00880629  0.00234476 -0.01140814\n",
      " -0.0016399  -0.00391094 -0.01629818 -0.00409531  0.00074372 -0.0019809\n",
      "  0.00333755 -0.00287553  0.00433387 -0.01337517 -0.0061228   0.00072439\n",
      "  0.0112662   0.00114778  0.01263287 -0.00992418 -0.01374088 -0.00784433\n",
      " -0.00819163  0.00394622  0.00543118  0.00881119]\n",
      "[ 0.01570408 -0.00542064  0.02395288 ...,  0.00094639  0.01815867\n",
      " -0.00263359]\n"
     ]
    }
   ],
   "source": [
    "# Create the network with the required parameters: num_words, words_idx, hidden_dim, word_vec_dim\n",
    "\n",
    "N,T = bible.shape\n",
    "\n",
    "# Set num_words = 10\n",
    "num_words = max_idx+1\n",
    "# Set number of samples = 16\n",
    "num_samples = 16\n",
    "# Time dimensions\n",
    "time_dim = T\n",
    "# We need to create a hidden_dim representation. Let's give it the dimension 100\n",
    "hidden_dim = 100\n",
    "# We need to give the word vector dimensions. Usually it's advised for it to be less than num_words.\n",
    "word_vec_dim = 100\n",
    "\n",
    "rnn = VanillaRNN(num_samples, num_words, time_dim, hidden_dim, word_vec_dim)"
   ]
  },
  {
   "cell_type": "code",
   "execution_count": 5,
   "metadata": {
    "collapsed": false
   },
   "outputs": [],
   "source": [
    "solver = Solver(rnn, {\"learning_rate\" : 1e-3, \"type\" : \"sgd\"})"
   ]
  },
  {
   "cell_type": "code",
   "execution_count": 6,
   "metadata": {
    "collapsed": false
   },
   "outputs": [
    {
     "name": "stdout",
     "output_type": "stream",
     "text": [
      "(16, 100)\n",
      "loss :  62.5185009067\n",
      "loss :  62.5135183149\n",
      "loss :  62.5024263215\n",
      "loss :  62.4691816632\n",
      "loss :  62.3309238005\n",
      "loss :  62.1478690782\n",
      "loss :  62.1786848763\n",
      "loss :  61.9059936807\n",
      "loss :  61.9350983878\n",
      "loss :  61.5537110061\n",
      "61.5537110061\n"
     ]
    },
    {
     "name": "stderr",
     "output_type": "stream",
     "text": [
      "models/layers.py:161: FutureWarning: comparison to `None` will result in an elementwise object comparison in the future.\n",
      "  if h0 != None: # Supply an h0 state.\n"
     ]
    },
    {
     "data": {
      "image/png": "[encoded data removed]",
      "text/plain": [
       "<matplotlib.figure.Figure at 0x1106c4a90>"
      ]
     },
     "metadata": {},
     "output_type": "display_data"
    }
   ],
   "source": [
    "# Run the loss function on the neural network with the parameters: y, h0\n",
    "history = []\n",
    "curPtr = 0\n",
    "for i in xrange(100):\n",
    "    if curPtr >= N-T-1:\n",
    "        curPtr = 0\n",
    "    if curPtr == 0:\n",
    "        h0 = np.zeros((num_samples, hidden_dim))\n",
    "        print h0.shape\n",
    "    loss, l, h0 = rnn.loss(bible[curPtr:curPtr+num_samples, :], bible[curPtr+1:curPtr+num_samples+1, :], h0)\n",
    "    solver.train(l)\n",
    "    history.append((i,loss))\n",
    "    print \"loss : \" , loss\n",
    "    curPtr += num_samples\n",
    "    \n",
    "print loss\n",
    "grad_descent_plot = plt.plot(*zip(*history))\n",
    "plt.setp(grad_descent_plot, 'color', 'r', 'linewidth', 2.0)\n",
    "plt.show()"
   ]
  },
  {
   "cell_type": "code",
   "execution_count": null,
   "metadata": {
    "collapsed": true
   },
   "outputs": [],
   "source": []
  },
  {
   "cell_type": "code",
   "execution_count": null,
   "metadata": {
    "collapsed": true
   },
   "outputs": [],
   "source": []
  }
 ],
 "metadata": {
  "kernelspec": {
   "display_name": "Python 2",
   "language": "python",
   "name": "python2"
  },
  "language_info": {
   "codemirror_mode": {
    "name": "ipython",
    "version": 2
   },
   "file_extension": ".py",
   "mimetype": "text/x-python",
   "name": "python",
   "nbconvert_exporter": "python",
   "pygments_lexer": "ipython2",
   "version": "2.7.12"
  }
 },
 "nbformat": 4,
 "nbformat_minor": 0
}
