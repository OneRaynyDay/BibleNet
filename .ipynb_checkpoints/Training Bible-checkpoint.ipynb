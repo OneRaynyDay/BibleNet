{
 "cells": [
  {
   "cell_type": "code",
   "execution_count": 1,
   "metadata": {
    "collapsed": true
   },
   "outputs": [],
   "source": [
    "from tools.numerical_gradient import *\n",
    "from models.layers import *\n",
    "from models.networks.vanilla_rnn import *\n",
    "from models.networks.lstm_rnn import *\n",
    "from models.solver.solver import *\n",
    "import matplotlib.pyplot as plt\n",
    "import matplotlib.image as mpimg\n",
    "import numpy as np\n",
    "import h5py\n",
    "import nltk\n",
    "import re\n",
    "import pickle\n",
    "\n",
    "%matplotlib inline\n",
    "plt.rcParams['figure.figsize'] = (10.0, 8.0) # set default size of plots\n",
    "plt.rcParams['image.interpolation'] = 'nearest'\n",
    "plt.rcParams['image.cmap'] = 'gray'"
   ]
  },
  {
   "cell_type": "code",
   "execution_count": 2,
   "metadata": {
    "collapsed": true
   },
   "outputs": [],
   "source": [
    "#############\n",
    "# Constants #\n",
    "#############\n",
    "\n",
    "word_sequence_dest = \"word_sequence.hdf5\"\n",
    "word_mapping_dest = \"word_map.pkl\"\n",
    "idx_mapping_dest = \"idx_map.pkl\"\n",
    "word_dataset_dest = \"word_dataset.hdf5\"\n",
    "cache_model_dest = \"cache_model.pkl\"\n",
    "seq_len = 10\n",
    "\n",
    "delims = ' |\\t|\\r\\n'"
   ]
  },
  {
   "cell_type": "code",
   "execution_count": 3,
   "metadata": {
    "collapsed": true
   },
   "outputs": [],
   "source": [
    "# Read in the data of X_all\n",
    "with h5py.File(word_dataset_dest, 'r') as f:\n",
    "    bible = f[\"bible\"][:]\n",
    "with open(idx_mapping_dest, 'r') as f:\n",
    "    idx_mapping = pickle.load(f)\n",
    "max_idx = np.max(bible)"
   ]
  },
  {
   "cell_type": "code",
   "execution_count": 4,
   "metadata": {
    "collapsed": false
   },
   "outputs": [
    {
     "name": "stdout",
     "output_type": "stream",
     "text": [
      "11648\n"
     ]
    }
   ],
   "source": [
    "### Hyperparameters ###\n",
    "N,T = bible.shape\n",
    "num_samples = 256\n",
    "num_words = max_idx+1\n",
    "time_dim = 10\n",
    "hidden_dim = 100\n",
    "word_vec_dim = 100\n",
    "print num_words\n",
    "curPtr = 0\n",
    "\n",
    "rnn = LSTM_RNN(num_samples, num_words, time_dim, hidden_dim, word_vec_dim, l2_lambda=0.0001) # activate regularization\n",
    "solver = Solver({\"learning_rate\" : 1e-2, \"type\" : \"adam\",\n",
    "                 \"beta1\" : 0.9, \"beta2\" : 0.99}) # adagrad/adam can sustain higher learning rates"
   ]
  },
  {
   "cell_type": "code",
   "execution_count": null,
   "metadata": {
    "collapsed": false
   },
   "outputs": [],
   "source": [
    "# Run the loss function on the neural network with the parameters: y, h0\n",
    "history = []\n",
    "print_every = 50\n",
    "\n",
    "for i in xrange(5000):\n",
    "    if curPtr >= N-num_samples-1:\n",
    "        curPtr = 0\n",
    "    if curPtr == 0:\n",
    "        h0 = np.zeros((num_samples, hidden_dim))\n",
    "    loss, l, h0 = rnn.loss(bible[curPtr:curPtr+num_samples, :], bible[curPtr+1:curPtr+num_samples+1, :], h0)\n",
    "    if i % print_every == 0:\n",
    "        print \"loss at epoch \", i, \": \", loss\n",
    "    solver.step(i, loss, l)\n",
    "    curPtr += num_samples\n",
    "    \n",
    "grad_descent_plot = plt.plot(*solver.get_loss_history())\n",
    "plt.setp(grad_descent_plot, 'color', 'r', 'linewidth', 2.0)\n",
    "plt.show()"
   ]
  },
  {
   "cell_type": "code",
   "execution_count": null,
   "metadata": {
    "collapsed": true
   },
   "outputs": [],
   "source": []
  }
 ],
 "metadata": {
  "kernelspec": {
   "display_name": "Python 2",
   "language": "python",
   "name": "python2"
  },
  "language_info": {
   "codemirror_mode": {
    "name": "ipython",
    "version": 2
   },
   "file_extension": ".py",
   "mimetype": "text/x-python",
   "name": "python",
   "nbconvert_exporter": "python",
   "pygments_lexer": "ipython2",
   "version": "2.7.12"
  }
 },
 "nbformat": 4,
 "nbformat_minor": 0
}
