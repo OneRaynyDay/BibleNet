{
 "cells": [
  {
   "cell_type": "code",
   "execution_count": 1,
   "metadata": {
    "collapsed": true
   },
   "outputs": [],
   "source": [
    "from tools.numerical_gradient import *\n",
    "from models.layers import *\n",
    "from models.networks.vanilla_rnn import *\n",
    "from models.solver.solver import *\n",
    "import matplotlib.pyplot as plt\n",
    "import matplotlib.image as mpimg\n",
    "import numpy as np\n",
    "import h5py\n",
    "import nltk\n",
    "import re\n",
    "import pickle\n",
    "\n",
    "%matplotlib inline\n",
    "plt.rcParams['figure.figsize'] = (10.0, 8.0) # set default size of plots\n",
    "plt.rcParams['image.interpolation'] = 'nearest'\n",
    "plt.rcParams['image.cmap'] = 'gray'"
   ]
  },
  {
   "cell_type": "code",
   "execution_count": 2,
   "metadata": {
    "collapsed": true
   },
   "outputs": [],
   "source": [
    "#############\n",
    "# Constants #\n",
    "#############\n",
    "\n",
    "word_sequence_dest = \"word_sequence.hdf5\"\n",
    "word_mapping_dest = \"word_map.pkl\"\n",
    "idx_mapping_dest = \"idx_map.pkl\"\n",
    "word_dataset_dest = \"word_dataset.hdf5\"\n",
    "cache_model_dest = \"cache_model.pkl\"\n",
    "seq_len = 5\n",
    "\n",
    "delims = ' |\\t|\\r\\n'"
   ]
  },
  {
   "cell_type": "code",
   "execution_count": 3,
   "metadata": {
    "collapsed": false
   },
   "outputs": [],
   "source": [
    "# Read in the data of X_all\n",
    "with h5py.File(word_dataset_dest, 'r') as f:\n",
    "    shakespeare = f[\"bible\"][:]\n",
    "with open(idx_mapping_dest, 'r') as f:\n",
    "    idx_mapping = pickle.load(f)\n",
    "max_idx = np.max(shakespeare)"
   ]
  },
  {
   "cell_type": "code",
   "execution_count": 4,
   "metadata": {
    "collapsed": false
   },
   "outputs": [
    {
     "name": "stdout",
     "output_type": "stream",
     "text": [
      "1850\n"
     ]
    }
   ],
   "source": [
    "### Hyperparameters ###\n",
    "N,T = shakespeare.shape\n",
    "num_samples = 256\n",
    "num_words = max_idx+1\n",
    "time_dim = 5\n",
    "hidden_dim = 100\n",
    "word_vec_dim = 100\n",
    "print num_words"
   ]
  },
  {
   "cell_type": "code",
   "execution_count": 5,
   "metadata": {
    "collapsed": false
   },
   "outputs": [],
   "source": [
    "rnn = VanillaRNN(num_samples, num_words, time_dim, hidden_dim, word_vec_dim)"
   ]
  },
  {
   "cell_type": "code",
   "execution_count": 6,
   "metadata": {
    "collapsed": true
   },
   "outputs": [],
   "source": [
    "solver = Solver({\"learning_rate\" : 2e-3, \"type\" : \"adam\",\n",
    "                 \"beta1\" : 0.9, \"beta2\" : 0.99}) # adagrad/adam can sustain higher learning rates"
   ]
  },
  {
   "cell_type": "code",
   "execution_count": 7,
   "metadata": {
    "collapsed": false,
    "scrolled": false
   },
   "outputs": [
    {
     "name": "stdout",
     "output_type": "stream",
     "text": [
      "loss at epoch  0 :  37.6381246308\n",
      "loss at epoch  50 :  31.8895158447\n",
      "loss at epoch  100 :  24.2773410408\n",
      "loss at epoch  150 :  16.6141314429\n",
      "loss at epoch  200 :  11.9950123756\n",
      "loss at epoch  250 :  9.30530289942\n",
      "loss at epoch  300 :  7.15649954829\n",
      "loss at epoch  350 :  4.70408203501\n",
      "loss at epoch  400 :  4.13940620856\n",
      "loss at epoch  450 :  3.60407650961\n",
      "loss at epoch  500 :  2.86216155603\n",
      "loss at epoch  550 :  2.94786919298\n",
      "loss at epoch  600 :  2.26286211097\n",
      "loss at epoch  650 :  2.35955029556\n",
      "loss at epoch  700 :  2.09564525265\n",
      "loss at epoch  750 :  2.32643348864\n",
      "loss at epoch  800 :  2.15594682212\n",
      "loss at epoch  850 :  2.33150418331\n",
      "loss at epoch  900 :  2.30971736562\n",
      "loss at epoch  950 :  1.93871036025\n"
     ]
    },
    {
     "name": "stderr",
     "output_type": "stream",
     "text": [
      "models/layers.py:161: FutureWarning: comparison to `None` will result in an elementwise object comparison in the future.\n",
      "  if h0 != None: # Supply an h0 state.\n"
     ]
    },
    {
     "data": {
      "image/png": "[encoded data removed]",
      "text/plain": [
       "<matplotlib.figure.Figure at 0x1106eee90>"
      ]
     },
     "metadata": {},
     "output_type": "display_data"
    }
   ],
   "source": [
    "# Run the loss function on the neural network with the parameters: y, h0\n",
    "history = []\n",
    "curPtr = 0\n",
    "print_every = 50\n",
    "\n",
    "for i in xrange(1000):\n",
    "    if curPtr >= N-num_samples-1:\n",
    "        curPtr = 0\n",
    "    if curPtr == 0:\n",
    "        h0 = np.zeros((num_samples, hidden_dim))\n",
    "    loss, l, h0 = rnn.loss(shakespeare[curPtr:curPtr+num_samples, :], shakespeare[curPtr+1:curPtr+num_samples+1, :], h0)\n",
    "    if i % print_every == 0:\n",
    "        print \"loss at epoch \", i, \": \", loss\n",
    "    solver.step(i, loss, l)\n",
    "    curPtr += num_samples\n",
    "    \n",
    "grad_descent_plot = plt.plot(*solver.get_loss_history())\n",
    "plt.setp(grad_descent_plot, 'color', 'r', 'linewidth', 2.0)\n",
    "plt.show()"
   ]
  },
  {
   "cell_type": "code",
   "execution_count": 7,
   "metadata": {
    "collapsed": false
   },
   "outputs": [],
   "source": [
    "# Only call this cell when you have cached in the states previously!\n",
    "with h5py.File(\"words\", 'r') as f:\n",
    "    rnn.params[\"words\"] = f[\"words\"][:]\n",
    "with h5py.File(\"W_xh\", 'r') as f:\n",
    "    rnn.params[\"W_xh\"] = f[\"W_xh\"][:]\n",
    "with h5py.File(\"W_hh\", 'r') as f:\n",
    "    rnn.params[\"W_hh\"] = f[\"W_hh\"][:]\n",
    "with h5py.File(\"W_hy\", 'r') as f:\n",
    "    rnn.params[\"W_hy\"] = f[\"W_hy\"][:]\n",
    "with h5py.File(\"b_affine\", 'r') as f:\n",
    "    rnn.params[\"b_affine\"] = f[\"b_affine\"][:]\n",
    "with h5py.File(\"b_rnn\", 'r') as f:\n",
    "    rnn.params[\"b_rnn\"] = f[\"b_rnn\"][:]"
   ]
  },
  {
   "cell_type": "code",
   "execution_count": 12,
   "metadata": {
    "collapsed": false
   },
   "outputs": [
    {
     "name": "stdout",
     "output_type": "stream",
     "text": [
      "[306, 868, 765, 1558, 335, 968, 1140, 1599, 583, 335, 921, 317, 1052, 649, 1009, 1187, 933, 1544, 583, 1820, 74, 1412, 1451, 1702, 1185, 424, 1322, 1580, 640, 706, 997, 1681, 874, 649, 909, 1349, 1140, 1214, 838, 335, 1022, 372, 607, 366, 909, 1747, 41, 513, 909, 481, 775, 1694, 555, 378, 625, 1219, 366, 1467, 1391, 1836, 208, 33, 756, 366, 1348, 337, 1042, 1348, 933, 942, 649, 1563, 1462, 518, 882, 1216, 317, 470, 366, 962, 933, 392, 1712, 1841, 690, 659, 204, 859, 32, 276, 335, 1686, 649, 89, 997, 303, 1456, 484, 933, 440]\n",
      "in your impediment. For the dearth, The gods, not the patricians, make it, and Your knees to them, not arms, must help. Alack, You are transported by calamity Thither where more attends you, and you slander The helms o' the state, who care for you like fathers, When you curse them as enemies. First Citizen Care for us! True, indeed! They ne'er cared for us yet suffer us to famish, and their store-houses crammed with grain; make edicts for usury, to support usurers; repeal daily any wholesome act established against the rich, and provide more piercing statutes daily, to chain\n"
     ]
    }
   ],
   "source": [
    "seq = rnn.predict(1, seq_len=100) # We fed in \"God\" as the first token.\n",
    "print seq\n",
    "words = [idx_mapping[i] for i in seq]\n",
    "print \" \".join(words)"
   ]
  },
  {
   "cell_type": "code",
   "execution_count": 16,
   "metadata": {
    "collapsed": false
   },
   "outputs": [],
   "source": [
    "with h5py.File(\"words\", 'w') as f:\n",
    "    f.create_dataset('words', data=l[0][0])\n",
    "with h5py.File(\"W_xh\", 'w') as f:\n",
    "    f.create_dataset(\"W_xh\", data=l[1][0])\n",
    "with h5py.File(\"W_hh\", 'w') as f:\n",
    "    f.create_dataset(\"W_hh\", data=l[2][0])\n",
    "with h5py.File(\"W_hy\", 'w') as f:\n",
    "    f.create_dataset(\"W_hy\", data=l[3][0])\n",
    "with h5py.File(\"b_affine\", 'w') as f:\n",
    "    f.create_dataset(\"b_affine\", data=l[4][0])\n",
    "with h5py.File(\"b_rnn\", 'w') as f:\n",
    "    f.create_dataset(\"b_rnn\", data=l[5][0])"
   ]
  },
  {
   "cell_type": "code",
   "execution_count": null,
   "metadata": {
    "collapsed": true
   },
   "outputs": [],
   "source": []
  }
 ],
 "metadata": {
  "kernelspec": {
   "display_name": "Python 2",
   "language": "python",
   "name": "python2"
  },
  "language_info": {
   "codemirror_mode": {
    "name": "ipython",
    "version": 2
   },
   "file_extension": ".py",
   "mimetype": "text/x-python",
   "name": "python",
   "nbconvert_exporter": "python",
   "pygments_lexer": "ipython2",
   "version": "2.7.12"
  }
 },
 "nbformat": 4,
 "nbformat_minor": 0
}
