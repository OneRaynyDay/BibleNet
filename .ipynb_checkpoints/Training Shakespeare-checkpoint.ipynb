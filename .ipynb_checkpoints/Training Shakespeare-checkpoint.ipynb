{
 "cells": [
  {
   "cell_type": "code",
   "execution_count": 1,
   "metadata": {
    "collapsed": false
   },
   "outputs": [],
   "source": [
    "from tools.numerical_gradient import *\n",
    "from models.layers import *\n",
    "from models.networks.vanilla_rnn import *\n",
    "from models.networks.lstm_rnn import *\n",
    "from models.solver.solver import *\n",
    "import matplotlib.pyplot as plt\n",
    "import matplotlib.image as mpimg\n",
    "import numpy as np\n",
    "import h5py\n",
    "import nltk\n",
    "import re\n",
    "import pickle\n",
    "\n",
    "%matplotlib inline\n",
    "plt.rcParams['figure.figsize'] = (10.0, 8.0) # set default size of plots\n",
    "plt.rcParams['image.interpolation'] = 'nearest'\n",
    "plt.rcParams['image.cmap'] = 'gray'"
   ]
  },
  {
   "cell_type": "code",
   "execution_count": 2,
   "metadata": {
    "collapsed": true
   },
   "outputs": [],
   "source": [
    "#############\n",
    "# Constants #\n",
    "#############\n",
    "\n",
    "word_sequence_dest = \"word_sequence.hdf5\"\n",
    "word_mapping_dest = \"word_map.pkl\"\n",
    "idx_mapping_dest = \"idx_map.pkl\"\n",
    "word_dataset_dest = \"word_dataset.hdf5\"\n",
    "cache_model_dest = \"cache_model.pkl\"\n",
    "seq_len = 10\n",
    "\n",
    "delims = ' |\\t|\\r\\n'"
   ]
  },
  {
   "cell_type": "code",
   "execution_count": 3,
   "metadata": {
    "collapsed": false
   },
   "outputs": [],
   "source": [
    "# Read in the data of X_all\n",
    "with h5py.File(word_dataset_dest, 'r') as f:\n",
    "    shakespeare = f[\"bible\"][:]\n",
    "with open(idx_mapping_dest, 'r') as f:\n",
    "    idx_mapping = pickle.load(f)\n",
    "max_idx = np.max(shakespeare)"
   ]
  },
  {
   "cell_type": "code",
   "execution_count": 4,
   "metadata": {
    "collapsed": false
   },
   "outputs": [
    {
     "name": "stdout",
     "output_type": "stream",
     "text": [
      "2320\n"
     ]
    }
   ],
   "source": [
    "### Hyperparameters ###\n",
    "N,T = shakespeare.shape\n",
    "num_samples = 256\n",
    "num_words = max_idx+1\n",
    "time_dim = 5\n",
    "hidden_dim = 100\n",
    "word_vec_dim = 100\n",
    "print num_words\n",
    "curPtr = 0"
   ]
  },
  {
   "cell_type": "code",
   "execution_count": 5,
   "metadata": {
    "collapsed": false
   },
   "outputs": [],
   "source": [
    "rnn = VanillaRNN(num_samples, num_words, time_dim, hidden_dim, word_vec_dim, l2_lambda=0.0005) # activate regularization"
   ]
  },
  {
   "cell_type": "code",
   "execution_count": 6,
   "metadata": {
    "collapsed": true
   },
   "outputs": [],
   "source": [
    "solver = Solver({\"learning_rate\" : 1e-2, \"type\" : \"adam\",\n",
    "                 \"beta1\" : 0.9, \"beta2\" : 0.99}) # adagrad/adam can sustain higher learning rates"
   ]
  },
  {
   "cell_type": "code",
   "execution_count": 7,
   "metadata": {
    "collapsed": false,
    "scrolled": false
   },
   "outputs": [
    {
     "name": "stdout",
     "output_type": "stream",
     "text": [
      "loss at epoch  0 :  39.3861490671\n",
      "loss at epoch  50 :  32.3993636689\n",
      "loss at epoch  100 :  23.6363835795\n",
      "loss at epoch  150 :  22.637751157\n",
      "loss at epoch  200 :  19.7816643524\n",
      "loss at epoch  250 :  19.6456768031\n",
      "loss at epoch  300 :  19.4882764381\n",
      "loss at epoch  350 :  18.7628597753\n",
      "loss at epoch  400 :  15.731026949\n",
      "loss at epoch  450 :  14.1315985285\n",
      "loss at epoch  500 :  15.4046627013\n",
      "loss at epoch  550 :  14.3602386335\n",
      "loss at epoch  600 :  14.5676771818\n",
      "loss at epoch  650 :  14.9217156231\n",
      "loss at epoch  700 :  13.5485987302\n",
      "loss at epoch  750 :  12.8324638869\n",
      "loss at epoch  800 :  13.8351486028\n",
      "loss at epoch  850 :  12.8281471967\n",
      "loss at epoch  900 :  13.1043613135\n",
      "loss at epoch  950 :  12.2100117362\n",
      "loss at epoch  1000 :  12.5658897802\n",
      "loss at epoch  1050 :  11.8958067974\n",
      "loss at epoch  1100 :  11.7741989003\n",
      "loss at epoch  1150 :  11.4457931378\n"
     ]
    },
    {
     "name": "stderr",
     "output_type": "stream",
     "text": [
      "models/layers.py:284: FutureWarning: comparison to `None` will result in an elementwise object comparison in the future.\n",
      "  if h0 != None: # Supply an h0 state.\n"
     ]
    },
    {
     "data": {
      "image/png": "[encoded data removed]",
      "text/plain": [
       "<matplotlib.figure.Figure at 0x110719790>"
      ]
     },
     "metadata": {},
     "output_type": "display_data"
    }
   ],
   "source": [
    "# Run the loss function on the neural network with the parameters: y, h0\n",
    "history = []\n",
    "print_every = 50\n",
    "\n",
    "for i in xrange(1200):\n",
    "    if curPtr >= N-num_samples-1:\n",
    "        curPtr = 0\n",
    "    if curPtr == 0:\n",
    "        h0 = np.zeros((num_samples, hidden_dim))\n",
    "    loss, l, h0 = rnn.loss(shakespeare[curPtr:curPtr+num_samples, :], shakespeare[curPtr+1:curPtr+num_samples+1, :], h0)\n",
    "    if i % print_every == 0:\n",
    "        print \"loss at epoch \", i, \": \", loss\n",
    "    solver.step(i, loss, l)\n",
    "    curPtr += num_samples\n",
    "    \n",
    "grad_descent_plot = plt.plot(*solver.get_loss_history())\n",
    "plt.setp(grad_descent_plot, 'color', 'r', 'linewidth', 2.0)\n",
    "plt.show()"
   ]
  },
  {
   "cell_type": "code",
   "execution_count": 5,
   "metadata": {
    "collapsed": false
   },
   "outputs": [],
   "source": [
    "# Only call this cell when you have cached in the states previously!\n",
    "with h5py.File(\"words\", 'r') as f:\n",
    "    rnn.params[\"words\"] = f[\"words\"][:]\n",
    "with h5py.File(\"W_xh\", 'r') as f:\n",
    "    rnn.params[\"W_xh\"] = f[\"W_xh\"][:]\n",
    "with h5py.File(\"W_hh\", 'r') as f:\n",
    "    rnn.params[\"W_hh\"] = f[\"W_hh\"][:]\n",
    "with h5py.File(\"W_hy\", 'r') as f:\n",
    "    rnn.params[\"W_hy\"] = f[\"W_hy\"][:]\n",
    "with h5py.File(\"b_affine\", 'r') as f:\n",
    "    rnn.params[\"b_affine\"] = f[\"b_affine\"][:]\n",
    "with h5py.File(\"b_rnn\", 'r') as f:\n",
    "    rnn.params[\"b_rnn\"] = f[\"b_rnn\"][:]"
   ]
  },
  {
   "cell_type": "code",
   "execution_count": 8,
   "metadata": {
    "collapsed": false
   },
   "outputs": [
    {
     "name": "stdout",
     "output_type": "stream",
     "text": [
      "[859, 2141, 320, 409, 1135, 1623, 682, 1706, 2255, 994, 2174, 2255, 558, 1626, 163, 743, 2228, 558, 682, 1521, 2255, 682, 1252, 1203, 790, 2255, 682, 652, 2259, 408, 757, 2255, 945, 1623, 994, 2021, 1129, 994, 1856, 2255, 1936, 2122, 163, 2273, 408, 1297, 426, 1479, 909, 1954, 1557, 1623, 835, 411, 1127, 910, 96, 835, 1613, 1880, 2255, 1463, 1893, 1668, 1836, 213, 835, 1107, 2255, 1442, 152, 2255, 994, 1231, 171, 464, 2255, 501, 1954, 1023, 1706, 889, 104, 232, 1623, 441, 96, 1623, 1168, 104, 1987, 267, 409, 2167, 1658, 1297, 1540, 1510, 1842, 2255]\n",
      "neatly will bad it again ... `` up . I thought . '' Oh , thank ? '' `` Yes . `` So what headphones . `` My intention is not . Pain ... I device as I this . Very slowly , he is a hand spiked That 's fur ... and in an behind me and cuffs instinctively . his feels from singing starts and enough . The satisfied . I shuffle them apart . He 's kneeling up between my legs ... transporting me ... to my waist - it 'll be a damn condo next .\n"
     ]
    }
   ],
   "source": [
    "seq = rnn.predict(5, seq_len=100) # We fed in \"God\" as the first token.\n",
    "print seq\n",
    "words = [idx_mapping[i] for i in seq]\n",
    "print \" \".join(words)"
   ]
  },
  {
   "cell_type": "code",
   "execution_count": 15,
   "metadata": {
    "collapsed": false
   },
   "outputs": [],
   "source": [
    "with h5py.File(\"words\", 'w') as f:\n",
    "    f.create_dataset('words', data=l[0][0])\n",
    "with h5py.File(\"W_xh\", 'w') as f:\n",
    "    f.create_dataset(\"W_xh\", data=l[1][0])\n",
    "with h5py.File(\"W_hh\", 'w') as f:\n",
    "    f.create_dataset(\"W_hh\", data=l[2][0])\n",
    "with h5py.File(\"W_hy\", 'w') as f:\n",
    "    f.create_dataset(\"W_hy\", data=l[3][0])\n",
    "with h5py.File(\"b_affine\", 'w') as f:\n",
    "    f.create_dataset(\"b_affine\", data=l[4][0])\n",
    "with h5py.File(\"b_rnn\", 'w') as f:\n",
    "    f.create_dataset(\"b_rnn\", data=l[5][0])"
   ]
  },
  {
   "cell_type": "markdown",
   "metadata": {
    "collapsed": true
   },
   "source": [
    "# Now let's try it with our LSTM! #"
   ]
  },
  {
   "cell_type": "code",
   "execution_count": 4,
   "metadata": {
    "collapsed": false
   },
   "outputs": [
    {
     "name": "stdout",
     "output_type": "stream",
     "text": [
      "2320\n"
     ]
    }
   ],
   "source": [
    "### Hyperparameters ###\n",
    "N,T = shakespeare.shape\n",
    "num_samples = 256\n",
    "num_words = max_idx+1\n",
    "time_dim = 10\n",
    "hidden_dim = 100\n",
    "word_vec_dim = 100\n",
    "print num_words\n",
    "curPtr = 0\n",
    "\n",
    "rnn = LSTM_RNN(num_samples, num_words, time_dim, hidden_dim, word_vec_dim, l2_lambda=0.0005) # activate regularization\n",
    "solver = Solver({\"learning_rate\" : 1e-2, \"type\" : \"adam\",\n",
    "                 \"beta1\" : 0.9, \"beta2\" : 0.99}) # adagrad/adam can sustain higher learning rates"
   ]
  },
  {
   "cell_type": "code",
   "execution_count": 5,
   "metadata": {
    "collapsed": false
   },
   "outputs": [
    {
     "name": "stdout",
     "output_type": "stream",
     "text": [
      "loss at epoch  0 :  78.2776327636\n",
      "loss at epoch  50 :  61.0275897301\n",
      "loss at epoch  100 :  48.552258453\n",
      "loss at epoch  150 :  45.8824537156\n",
      "loss at epoch  200 :  40.2731787093\n",
      "loss at epoch  250 :  39.8265400634\n",
      "loss at epoch  300 :  41.7375623018\n",
      "loss at epoch  350 :  39.8756544803\n",
      "loss at epoch  400 :  31.7332090988\n",
      "loss at epoch  450 :  29.3433139823\n",
      "loss at epoch  500 :  30.1658733367\n",
      "loss at epoch  550 :  28.0893648855\n",
      "loss at epoch  600 :  28.2175712475\n",
      "loss at epoch  650 :  28.3504844839\n",
      "loss at epoch  700 :  23.9693690576\n",
      "loss at epoch  750 :  22.6838800539\n",
      "loss at epoch  800 :  24.0770665022\n",
      "loss at epoch  850 :  21.9073001014\n",
      "loss at epoch  900 :  21.8374897647\n",
      "loss at epoch  950 :  20.9025056344\n",
      "loss at epoch  1000 :  20.7326432359\n",
      "loss at epoch  1050 :  18.6663671124\n",
      "loss at epoch  1100 :  18.6411119533\n",
      "loss at epoch  1150 :  18.9775766061\n",
      "loss at epoch  1200 :  14.3541335264\n",
      "loss at epoch  1250 :  14.0759693205\n",
      "loss at epoch  1300 :  16.3986529796\n",
      "loss at epoch  1350 :  17.6279219096\n",
      "loss at epoch  1400 :  15.6199070515\n",
      "loss at epoch  1450 :  15.1067383822\n",
      "loss at epoch  1500 :  14.9284821828\n",
      "loss at epoch  1550 :  15.3327124144\n",
      "loss at epoch  1600 :  14.8675050312\n",
      "loss at epoch  1650 :  15.6232165605\n",
      "loss at epoch  1700 :  15.3368011151\n",
      "loss at epoch  1750 :  13.546234393\n",
      "loss at epoch  1800 :  13.9095441634\n",
      "loss at epoch  1850 :  13.2192954728\n",
      "loss at epoch  1900 :  13.6025656123\n",
      "loss at epoch  1950 :  13.3573462737\n"
     ]
    },
    {
     "name": "stderr",
     "output_type": "stream",
     "text": [
      "models/layers.py:358: FutureWarning: comparison to `None` will result in an elementwise object comparison in the future.\n",
      "  if h0 == None: # Supply an h0 state.\n"
     ]
    },
    {
     "data": {
      "image/png": "[encoded data removed]",
      "text/plain": [
       "<matplotlib.figure.Figure at 0x1107f4790>"
      ]
     },
     "metadata": {},
     "output_type": "display_data"
    }
   ],
   "source": [
    "# Run the loss function on the neural network with the parameters: y, h0\n",
    "history = []\n",
    "print_every = 50\n",
    "\n",
    "for i in xrange(2000):\n",
    "    if curPtr >= N-num_samples-1:\n",
    "        curPtr = 0\n",
    "    if curPtr == 0:\n",
    "        h0 = np.zeros((num_samples, hidden_dim))\n",
    "    loss, l, h0 = rnn.loss(shakespeare[curPtr:curPtr+num_samples, :], shakespeare[curPtr+1:curPtr+num_samples+1, :], h0)\n",
    "    if i % print_every == 0:\n",
    "        print \"loss at epoch \", i, \": \", loss\n",
    "    solver.step(i, loss, l)\n",
    "    curPtr += num_samples\n",
    "    \n",
    "grad_descent_plot = plt.plot(*solver.get_loss_history())\n",
    "plt.setp(grad_descent_plot, 'color', 'r', 'linewidth', 2.0)\n",
    "plt.show()"
   ]
  },
  {
   "cell_type": "code",
   "execution_count": 14,
   "metadata": {
    "collapsed": false
   },
   "outputs": [
    {
     "name": "stdout",
     "output_type": "stream",
     "text": [
      "[1311, 1130, 436, 111, 1079, 104, 1991, 835, 415, 96, 409, 1453, 1848, 436, 1913, 1209, 163, 1123, 1193, 163, 1111, 1168, 764, 1856, 1609, 1079, 1275, 2255, 837, 2089, 96, 26, 2255, 994, 2224, 969, 1169, 163, 2273, 298, 2215, 2255, 558, 157, 104, 535, 730, 2282, 163, 730, 847, 674, 436, 1470, 1623, 2141, 2273, 1367, 96, 1623, 998, 1641, 414, 1933, 2255, 1827, 1297, 830, 163, 742, 2162, 491, 96, 1168, 1659, 1668, 96, 163, 835, 994, 850, 409, 2170, 2255, 200, 703, 1856, 408, 885, 86, 1623, 1329, 1623, 2292, 520, 1168, 104, 1731, 1623, 1741]\n",
      "limply at the end of my bed and make me it carefully on the bar stool , momentarily stupefied , trying to assimilate this morsel of information . He's bought me clothes . I does n't smile , he just home . '' His my head so cruel , so shocked by the savagery ... will he forgive me ... running some things out . leaving a wide , yawning abyss for me to run from me , and I take it off . Holy fuck this is going hurt ... sucking ... trailing down to my breasts ... Ah\n"
     ]
    }
   ],
   "source": [
    "seq = rnn.predict(5, seq_len=100) # We fed in \"God\" as the first token.\n",
    "print seq\n",
    "words = [idx_mapping[i] for i in seq]\n",
    "print \" \".join(words)"
   ]
  },
  {
   "cell_type": "code",
   "execution_count": null,
   "metadata": {
    "collapsed": true
   },
   "outputs": [],
   "source": []
  }
 ],
 "metadata": {
  "kernelspec": {
   "display_name": "Python 2",
   "language": "python",
   "name": "python2"
  },
  "language_info": {
   "codemirror_mode": {
    "name": "ipython",
    "version": 2
   },
   "file_extension": ".py",
   "mimetype": "text/x-python",
   "name": "python",
   "nbconvert_exporter": "python",
   "pygments_lexer": "ipython2",
   "version": "2.7.12"
  }
 },
 "nbformat": 4,
 "nbformat_minor": 0
}
