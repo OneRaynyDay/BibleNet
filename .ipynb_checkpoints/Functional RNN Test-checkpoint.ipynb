{
 "cells": [
  {
   "cell_type": "markdown",
   "metadata": {
    "collapsed": true
   },
   "source": [
    "# Testing 1 iteration of forward propagation for the RNN #"
   ]
  },
  {
   "cell_type": "code",
   "execution_count": 1,
   "metadata": {
    "collapsed": false
   },
   "outputs": [],
   "source": [
    "from tools.numerical_gradient import *\n",
    "from models.layers import *\n",
    "from models.networks.vanilla_rnn import *\n",
    "from models.solver.solver import *\n",
    "import matplotlib.pyplot as plt\n",
    "import matplotlib.image as mpimg\n",
    "import numpy as np\n",
    "import h5py\n",
    "import nltk\n",
    "import re\n",
    "import pickle\n",
    "\n",
    "%matplotlib inline\n",
    "plt.rcParams['figure.figsize'] = (10.0, 8.0) # set default size of plots\n",
    "plt.rcParams['image.interpolation'] = 'nearest'\n",
    "plt.rcParams['image.cmap'] = 'gray'"
   ]
  },
  {
   "cell_type": "code",
   "execution_count": 2,
   "metadata": {
    "collapsed": false
   },
   "outputs": [],
   "source": [
    "#############\n",
    "# Constants #\n",
    "#############\n",
    "\n",
    "word_sequence_dest = \"word_sequence.hdf5\"\n",
    "word_mapping_dest = \"word_map.pkl\"\n",
    "word_dataset_dest = \"word_dataset.hdf5\"\n",
    "seq_len = 6\n",
    "\n",
    "delims = ' |\\t|\\r\\n'"
   ]
  },
  {
   "cell_type": "code",
   "execution_count": 3,
   "metadata": {
    "collapsed": false
   },
   "outputs": [],
   "source": [
    "# Read in the data of X_all\n",
    "with h5py.File(word_dataset_dest, 'r') as f:\n",
    "    bible = f[\"bible\"][:]\n",
    "max_idx = np.max(bible)"
   ]
  },
  {
   "cell_type": "code",
   "execution_count": 4,
   "metadata": {
    "collapsed": false
   },
   "outputs": [
    {
     "name": "stdout",
     "output_type": "stream",
     "text": [
      "[[-0.00496379 -0.00378435 -0.00336193 ..., -0.01136808  0.01093296\n",
      "   0.01053202]\n",
      " [-0.01083392  0.00721428  0.01131343 ...,  0.01398591 -0.00745516\n",
      "  -0.0063326 ]\n",
      " [-0.00500632  0.00164072  0.00150873 ...,  0.00228223  0.00921305\n",
      "   0.0014324 ]\n",
      " ..., \n",
      " [ 0.00035165 -0.01302039  0.00422698 ..., -0.00661926  0.00918915\n",
      "  -0.00034264]\n",
      " [-0.00399848 -0.01094165 -0.00799324 ...,  0.01880555 -0.0008424\n",
      "  -0.00303527]\n",
      " [ 0.00734564  0.00806038  0.00409611 ...,  0.00283387  0.00835724\n",
      "  -0.00672409]]\n",
      "[[-0.00161331 -0.00585494  0.01118718 ..., -0.0056033  -0.00035671\n",
      "  -0.0007637 ]\n",
      " [-0.0074037   0.00628713  0.00234693 ...,  0.00770924  0.00935011\n",
      "   0.02494658]\n",
      " [-0.01436072 -0.00693845  0.00541971 ...,  0.00460458 -0.01121932\n",
      "   0.00265984]\n",
      " ..., \n",
      " [-0.0021573   0.01579168  0.00887642 ...,  0.00820258  0.01582265\n",
      "  -0.00426463]\n",
      " [-0.00948438  0.0050033   0.01540469 ..., -0.00201834 -0.01080598\n",
      "  -0.00236148]\n",
      " [-0.00645155 -0.01105428  0.00087369 ...,  0.00201896 -0.01698099\n",
      "  -0.01886654]]\n",
      "[[-0.01787134  0.00405538 -0.01977762 ..., -0.00755663  0.01741059\n",
      "   0.00325401]\n",
      " [-0.00342134  0.01168004  0.01103046 ..., -0.00819431  0.00180639\n",
      "  -0.00233744]\n",
      " [ 0.00903176 -0.00598292 -0.00916548 ...,  0.003791    0.00801361\n",
      "  -0.00223593]\n",
      " ..., \n",
      " [ 0.02519046  0.00628757 -0.00913434 ...,  0.00974672 -0.0005255\n",
      "  -0.0047853 ]\n",
      " [-0.01273953 -0.0222328  -0.0005086  ...,  0.00362154  0.02103909\n",
      "   0.0019754 ]\n",
      " [ 0.00682655  0.01069637  0.00441567 ..., -0.00181645 -0.02081997\n",
      "  -0.00803461]]\n",
      "[[  1.10804165e-02   1.94258188e-02  -2.29421086e-02 ...,   2.38553651e-03\n",
      "    8.14852612e-03  -5.90993688e-03]\n",
      " [  2.13265231e-04  -1.40739447e-02   1.45445105e-03 ...,  -2.35088070e-03\n",
      "    9.00442226e-04   1.36962816e-02]\n",
      " [  1.17161882e-02   2.78526204e-02  -8.31694929e-03 ...,   6.65078300e-03\n",
      "    1.41039253e-03  -4.50286031e-03]\n",
      " ..., \n",
      " [  1.23034103e-02   6.71019883e-03   2.58499434e-04 ...,   1.41384054e-03\n",
      "    7.58482182e-03  -7.72740600e-03]\n",
      " [ -1.10774041e-02   3.80645328e-03   9.63453592e-03 ...,  -1.98381302e-02\n",
      "   -9.27443210e-04  -8.77837333e-05]\n",
      " [  6.54930009e-03  -2.15087286e-03   1.09917167e-03 ...,  -5.75343574e-03\n",
      "    1.33934755e-02  -1.39340554e-03]]\n",
      "[ -8.30648825e-03  -3.36794803e-03  -4.07269469e-03  -8.69934334e-03\n",
      "  -1.80958683e-02   7.56182315e-03  -7.80942208e-03  -2.12867483e-02\n",
      "   4.15753847e-03  -1.57936259e-02  -1.15313953e-03  -1.23396537e-02\n",
      "  -7.63944462e-03  -3.61679566e-03   1.03003597e-02  -2.20401654e-03\n",
      "  -1.07468315e-03  -2.08416519e-03  -7.84924770e-03  -5.22453446e-03\n",
      "  -2.39929778e-02   1.19879304e-02   9.44244279e-03   1.58716956e-02\n",
      "  -2.00802261e-03  -2.89885396e-03  -3.36879859e-03   1.87418785e-02\n",
      "   6.55271103e-03   1.56675716e-02   3.69660670e-03  -7.84535815e-03\n",
      "   5.29783595e-03   6.13688642e-03  -1.62692669e-02   8.97637568e-03\n",
      "  -5.49971587e-03   1.67054628e-03  -1.75509365e-02  -1.33860253e-02\n",
      "   7.29878264e-05  -3.97156955e-03   1.21152707e-02   4.31141006e-03\n",
      "   7.17687276e-03  -1.07917945e-02  -5.06834946e-03   2.46331223e-04\n",
      "   8.81525441e-03   1.27001589e-02   1.31348874e-03   2.10982758e-03\n",
      "   4.60902399e-03  -5.09864508e-03  -1.02849562e-02   1.25595754e-03\n",
      "   1.27271012e-02   4.01584377e-03  -2.57689062e-04   7.66818598e-03\n",
      "   3.21562162e-03  -1.01133887e-02   1.59407538e-02  -1.66880686e-02\n",
      "   1.11334930e-02   1.15762066e-02   7.69247794e-04  -6.45420161e-03\n",
      "  -2.55118353e-03   2.50548739e-03   5.92058994e-03  -1.32592035e-03\n",
      "  -1.55761518e-02   1.12009892e-02  -9.05996425e-03  -5.44838045e-03\n",
      "  -1.07391508e-02  -3.77413386e-03   2.37434088e-03   2.60442966e-03\n",
      "   2.02766643e-02  -9.52460499e-03  -5.44314609e-03  -2.69952794e-02\n",
      "   6.67365012e-03   4.06687193e-03   1.29248626e-02  -3.08322552e-03\n",
      "  -4.97137208e-03   1.65503554e-02   3.90881399e-03  -6.82378455e-03\n",
      "   5.53850435e-03  -4.41682987e-03   1.90660143e-03   6.68373085e-03\n",
      "  -6.11800074e-03  -1.53417558e-02  -3.37376016e-03   1.96228671e-02]\n",
      "[ 0.00447904  0.01787483 -0.00742747 ..., -0.01663707 -0.01170704\n",
      " -0.02499249]\n"
     ]
    }
   ],
   "source": [
    "# Create the network with the required parameters: num_words, words_idx, hidden_dim, word_vec_dim\n",
    "\n",
    "N,T = bible.shape\n",
    "\n",
    "# Set num_words = 10\n",
    "num_words = max_idx+1\n",
    "# Set number of samples = 16\n",
    "num_samples = 16\n",
    "# Time dimensions\n",
    "time_dim = T\n",
    "# We need to create a hidden_dim representation. Let's give it the dimension 100\n",
    "hidden_dim = 100\n",
    "# We need to give the word vector dimensions. Usually it's advised for it to be less than num_words.\n",
    "word_vec_dim = 100\n",
    "\n",
    "rnn = VanillaRNN(num_samples, num_words, time_dim, hidden_dim, word_vec_dim)"
   ]
  },
  {
   "cell_type": "code",
   "execution_count": 5,
   "metadata": {
    "collapsed": false
   },
   "outputs": [],
   "source": [
    "solver = Solver(rnn, {\"learning_rate\" : 1e-3, \"type\" : \"sgd\"})"
   ]
  },
  {
   "cell_type": "code",
   "execution_count": 9,
   "metadata": {
    "collapsed": false
   },
   "outputs": [
    {
     "name": "stdout",
     "output_type": "stream",
     "text": [
      "(16, 100)\n",
      "loss :  57.7575904686\n",
      "loss :  57.8424990781\n",
      "loss :  58.5659513439\n",
      "loss :  59.0571928518\n",
      "loss :  56.7652448984\n",
      "loss :  56.7631477166\n",
      "loss :  58.6534017728\n",
      "loss :  56.8158005869\n",
      "loss :  56.8355492069\n",
      "loss :  56.5118206531\n",
      "loss :  56.2233765679\n",
      "loss :  59.2317003445\n",
      "loss :  56.9073760386\n",
      "loss :  58.6056136054\n",
      "loss :  57.9036683879\n",
      "loss :  59.7888461975\n",
      "loss :  58.5785838627\n",
      "loss :  60.0047243623\n",
      "loss :  55.3455778099\n",
      "loss :  57.0133322031\n",
      "loss :  57.9023026066\n",
      "loss :  57.6815525326\n",
      "loss :  57.5848144313\n",
      "loss :  55.9229351135\n",
      "loss :  56.2646105954\n",
      "loss :  56.3749487968\n",
      "loss :  53.8628796409\n",
      "loss :  54.1281202894\n",
      "loss :  56.9737713179\n",
      "loss :  57.2076406255\n",
      "loss :  58.3922250231\n",
      "loss :  59.8311039981\n",
      "loss :  57.79627752\n",
      "loss :  53.610911263\n",
      "loss :  53.265093856\n",
      "loss :  57.1780551503\n",
      "loss :  55.3025472087\n",
      "loss :  58.0038120489\n",
      "loss :  57.1462471317\n",
      "loss :  59.9495012929\n",
      "loss :  50.7832726\n",
      "loss :  55.4940230503\n",
      "loss :  57.9534590723\n",
      "loss :  57.8986292474\n",
      "loss :  55.5447863471\n",
      "loss :  51.1734919528\n",
      "loss :  57.5245988291\n",
      "loss :  56.5135739957\n",
      "loss :  56.8621311063\n",
      "loss :  56.3330361215\n",
      "loss :  56.1019071951\n",
      "loss :  58.8281120624\n",
      "loss :  57.6752731938\n",
      "loss :  49.8817829963\n",
      "loss :  54.1160255861\n",
      "loss :  58.2996327063\n",
      "loss :  56.6540047376\n",
      "loss :  59.3052938834\n",
      "loss :  52.4319903631\n",
      "loss :  49.4916891313\n",
      "loss :  52.9447080526\n",
      "loss :  55.6581714532\n",
      "loss :  55.4818441786\n",
      "loss :  52.6117687909\n",
      "loss :  50.5708479621\n",
      "loss :  55.0443221856\n",
      "loss :  55.8417251043\n",
      "loss :  54.0860214572\n",
      "loss :  54.5380695062\n",
      "loss :  50.2329156054\n",
      "loss :  56.1276486805\n",
      "loss :  56.651098517\n",
      "loss :  57.1235890666\n",
      "loss :  53.4889627692\n",
      "loss :  51.1288463099\n",
      "loss :  51.9784211769\n",
      "loss :  54.2719144625\n",
      "loss :  50.4590529383\n",
      "loss :  53.0000410207\n",
      "loss :  55.3200673733\n",
      "loss :  53.5989733628\n",
      "loss :  55.8461057591\n",
      "loss :  57.2855884257\n",
      "loss :  53.5704778275\n",
      "loss :  51.5771645055\n",
      "loss :  59.2558061643\n",
      "loss :  53.8946202075\n",
      "loss :  52.5548183509\n",
      "loss :  56.4425922696\n",
      "loss :  56.5127887714\n",
      "loss :  51.0040425757\n",
      "loss :  55.7910100163\n",
      "loss :  58.7301916078\n",
      "loss :  60.2030915184\n",
      "loss :  57.1869379589\n",
      "loss :  54.0578028867\n",
      "loss :  53.9381827721\n",
      "loss :  54.0923576466\n",
      "loss :  51.5337634225\n",
      "loss :  48.5424501549\n",
      "48.5424501549\n"
     ]
    },
    {
     "data": {
      "image/png": "[encoded data removed]",
      "text/plain": [
       "<matplotlib.figure.Figure at 0x130cd7950>"
      ]
     },
     "metadata": {},
     "output_type": "display_data"
    }
   ],
   "source": [
    "# Run the loss function on the neural network with the parameters: y, h0\n",
    "history = []\n",
    "curPtr = 0\n",
    "for i in xrange(100):\n",
    "    if curPtr >= N-T-1:\n",
    "        curPtr = 0\n",
    "    if curPtr == 0:\n",
    "        h0 = np.zeros((num_samples, hidden_dim))\n",
    "        print h0.shape\n",
    "    loss, l, h0 = rnn.loss(bible[curPtr:curPtr+num_samples, :], bible[curPtr+1:curPtr+num_samples+1, :], h0)\n",
    "    solver.train(l)\n",
    "    history.append((i,loss))\n",
    "    print \"loss : \" , loss\n",
    "    curPtr += num_samples\n",
    "    \n",
    "print loss\n",
    "grad_descent_plot = plt.plot(*zip(*history))\n",
    "plt.setp(grad_descent_plot, 'color', 'r', 'linewidth', 2.0)\n",
    "plt.show()"
   ]
  },
  {
   "cell_type": "code",
   "execution_count": null,
   "metadata": {
    "collapsed": true
   },
   "outputs": [],
   "source": []
  },
  {
   "cell_type": "code",
   "execution_count": null,
   "metadata": {
    "collapsed": true
   },
   "outputs": [],
   "source": []
  }
 ],
 "metadata": {
  "kernelspec": {
   "display_name": "Python 2",
   "language": "python",
   "name": "python2"
  },
  "language_info": {
   "codemirror_mode": {
    "name": "ipython",
    "version": 2
   },
   "file_extension": ".py",
   "mimetype": "text/x-python",
   "name": "python",
   "nbconvert_exporter": "python",
   "pygments_lexer": "ipython2",
   "version": "2.7.12"
  }
 },
 "nbformat": 4,
 "nbformat_minor": 0
}
